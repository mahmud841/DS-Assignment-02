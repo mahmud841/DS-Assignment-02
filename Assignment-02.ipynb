{
 "cells": [
  {
   "cell_type": "code",
   "execution_count": 1,
   "id": "a1f52c48",
   "metadata": {},
   "outputs": [],
   "source": [
    "# 1.Take values of the length & breadth of a rectangle from user input and check if it is square or not."
   ]
  },
  {
   "cell_type": "code",
   "execution_count": 2,
   "id": "e77a0682",
   "metadata": {},
   "outputs": [
    {
     "name": "stdout",
     "output_type": "stream",
     "text": [
      "Enter the length of the Rectangle: 55.5\n",
      "Enter the breadth of the Rectangle: 50\n",
      "The rectangle is not a Square.\n"
     ]
    }
   ],
   "source": [
    "length = float(input(\"Enter the length of the Rectangle: \"))\n",
    "breadth = float(input(\"Enter the breadth of the Rectangle: \"))\n",
    "\n",
    "if length == breadth:\n",
    "   print(\"The rectangle is a Square.\")\n",
    "else:\n",
    "   print(\"The rectangle is not a Square.\")\n"
   ]
  },
  {
   "cell_type": "code",
   "execution_count": 3,
   "id": "87094542",
   "metadata": {},
   "outputs": [],
   "source": [
    "# 2.Take three integer values from the user and print the greatest among them."
   ]
  },
  {
   "cell_type": "code",
   "execution_count": 4,
   "id": "0b4bdf57",
   "metadata": {},
   "outputs": [
    {
     "name": "stdout",
     "output_type": "stream",
     "text": [
      "Enter the 1st number: 55\n",
      "Enter the 2nd number: 56\n",
      "Enter the 3rd number: 57\n",
      "The greatest number is the 3rd input  57\n"
     ]
    }
   ],
   "source": [
    "num1 = int(input(\"Enter the 1st number: \"))\n",
    "num2 = int(input(\"Enter the 2nd number: \"))\n",
    "num3 = int(input(\"Enter the 3rd number: \"))\n",
    "\n",
    "if num1 > num2 and num1 > num3:\n",
    "   print(\"The greatest number is the 1st input \", num1)\n",
    "elif num2 > num3:\n",
    "   print(\"The greatest number is 2nd input \", num2)\n",
    "else:\n",
    "   print(\"The greatest number is the 3rd input \", num3)\n"
   ]
  },
  {
   "cell_type": "code",
   "execution_count": 5,
   "id": "fae69b79",
   "metadata": {},
   "outputs": [],
   "source": [
    "# 3.A student will not be allowed to sit in an exam if his/her attendance is less than 75%."
   ]
  },
  {
   "cell_type": "code",
   "execution_count": 6,
   "id": "eff5f129",
   "metadata": {},
   "outputs": [
    {
     "name": "stdout",
     "output_type": "stream",
     "text": [
      "Enter the attendance percentage: 90\n",
      "The student is allowed to sit in the exam.\n"
     ]
    }
   ],
   "source": [
    "attendancePercentage = float(input(\"Enter the attendance percentage: \"))\n",
    "\n",
    "if attendancePercentage < 75  :\n",
    "    print(\"The student is not allowed to sit in the exam.\")\n",
    "else:\n",
    "    print(\"The student is allowed to sit in the exam.\")\n"
   ]
  },
  {
   "cell_type": "code",
   "execution_count": 7,
   "id": "7d466284",
   "metadata": {},
   "outputs": [],
   "source": [
    "# 3.A student will not be allowed to sit in an exam if his/her attendance is less than 75%."
   ]
  },
  {
   "cell_type": "code",
   "execution_count": 8,
   "id": "9ab27bc5",
   "metadata": {},
   "outputs": [
    {
     "name": "stdout",
     "output_type": "stream",
     "text": [
      "Total Class Held: 50\n",
      "Attend Total Class: 59\n"
     ]
    },
    {
     "data": {
      "text/plain": [
       "'result = (classAttend / classHeld)*100\\n\\nprint(\"Attandance is\",result)\\n\\nif result > 75:\\n   print(\"Allowed to sit in Exam\")\\nelse:\\n   print(\"Not allowed to sit in Exam\")'"
      ]
     },
     "execution_count": 8,
     "metadata": {},
     "output_type": "execute_result"
    }
   ],
   "source": [
    "classHeld = int(input('Total Class Held: ')),\n",
    "classAttend = int(input('Attend Total Class: ')) \n",
    "\n",
    "'''result = (classAttend / classHeld)*100\n",
    "\n",
    "print(\"Attandance is\",result)\n",
    "\n",
    "if result > 75:\n",
    "   print(\"Allowed to sit in Exam\")\n",
    "else:\n",
    "   print(\"Not allowed to sit in Exam\")'''"
   ]
  },
  {
   "cell_type": "code",
   "execution_count": 10,
   "id": "0bce0427",
   "metadata": {},
   "outputs": [],
   "source": [
    "# 4. A school has the following rules for the grading system:\n",
    "#Below 25 – F, 25 to 44 – E, 45 to 49 – D, 50 to 59 – C, 60 to 79 – B, 80 to 89 - A, Above 90 - A+\n",
    "#Now, Ask the user to enter marks and print the corresponding grade."
   ]
  },
  {
   "cell_type": "code",
   "execution_count": 11,
   "id": "f702c7c4",
   "metadata": {},
   "outputs": [
    {
     "name": "stdout",
     "output_type": "stream",
     "text": [
      "Enter Student Marks: 87\n",
      "Grade: A\n"
     ]
    }
   ],
   "source": [
    "gradingMarks = float(input(\"Enter Student Marks: \"))\n",
    "\n",
    "if gradingMarks < 25:\n",
    "    print(\"Grade: F\")\n",
    "    \n",
    "elif gradingMarks >= 25 and gradingMarks < 45:\n",
    "    print(\"Grade: E\")\n",
    "    \n",
    "elif gradingMarks >= 45 and gradingMarks < 50:\n",
    "    print(\"Grade: D\")\n",
    "    \n",
    "elif gradingMarks >= 50 and gradingMarks < 60:\n",
    "    print(\"Grade: C\")\n",
    "    \n",
    "elif gradingMarks >= 60 and gradingMarks < 80:\n",
    "    print(\"Grade: B\")\n",
    "    \n",
    "elif gradingMarks >= 80 and gradingMarks < 90:\n",
    "    print(\"Grade: A\")\n",
    "    \n",
    "elif gradingMarks >= 90:\n",
    "    print(\"Grade: A+\")\n"
   ]
  },
  {
   "cell_type": "code",
   "execution_count": null,
   "id": "6fe88c54",
   "metadata": {},
   "outputs": [],
   "source": [
    "# 5. Print the following pattern using for and while loop.\n",
    "1 2 3 4 5 6 7\n",
    "1 2 3 4 5 6\n",
    "1 2 3 4 5\n",
    "1 2 3 4"
   ]
  },
  {
   "cell_type": "code",
   "execution_count": 12,
   "id": "f0b634fc",
   "metadata": {},
   "outputs": [
    {
     "name": "stdout",
     "output_type": "stream",
     "text": [
      "1 2 3 4 5 6 7 \n",
      "1 2 3 4 5 6 \n",
      "1 2 3 4 5 \n",
      "1 2 3 4 \n",
      "1 2 3 \n",
      "1 2 \n",
      "1 \n",
      "\n"
     ]
    }
   ],
   "source": [
    " for i in range(8, 0, -1):\n",
    "        for k in range(1,i):\n",
    "            print(k, end=\" \")\n",
    "        print()"
   ]
  },
  {
   "cell_type": "code",
   "execution_count": 13,
   "id": "f5aa8a4b",
   "metadata": {},
   "outputs": [
    {
     "name": "stdout",
     "output_type": "stream",
     "text": [
      "1 2 3 4 5 6 7 \n",
      "1 2 3 4 5 6 \n",
      "1 2 3 4 5 \n",
      "1 2 3 4 \n",
      "1 2 3 \n",
      "1 2 \n",
      "1 \n",
      "\n"
     ]
    }
   ],
   "source": [
    "i = 8\n",
    "while i > 0:\n",
    "    k = 1\n",
    "    while k < i:\n",
    "        print(k, end=\" \")\n",
    "        k += 1\n",
    "    print()\n",
    "    i -= 1"
   ]
  },
  {
   "cell_type": "code",
   "execution_count": null,
   "id": "845d8925",
   "metadata": {},
   "outputs": [],
   "source": [
    "# 6. Display numbers from -100 to -10 using for loop."
   ]
  },
  {
   "cell_type": "code",
   "execution_count": 14,
   "id": "9762d7c9",
   "metadata": {},
   "outputs": [
    {
     "name": "stdout",
     "output_type": "stream",
     "text": [
      "-100 -99 -98 -97 -96 -95 -94 -93 -92 -91 -90 -89 -88 -87 -86 -85 -84 -83 -82 -81 -80 -79 -78 -77 -76 -75 -74 -73 -72 -71 -70 -69 -68 -67 -66 -65 -64 -63 -62 -61 -60 -59 -58 -57 -56 -55 -54 -53 -52 -51 -50 -49 -48 -47 -46 -45 -44 -43 -42 -41 -40 -39 -38 -37 -36 -35 -34 -33 -32 -31 -30 -29 -28 -27 -26 -25 -24 -23 -22 -21 -20 -19 -18 -17 -16 -15 -14 -13 -12 -11 -10 "
     ]
    }
   ],
   "source": [
    "for i in range(-100, -9):\n",
    "    #print(i)\n",
    "    print(i, end=\" \")"
   ]
  },
  {
   "cell_type": "code",
   "execution_count": 15,
   "id": "e3d71a51",
   "metadata": {},
   "outputs": [
    {
     "name": "stdout",
     "output_type": "stream",
     "text": [
      "The sum of all prime numbers within the range of 10 to 1000 will be 76110\n"
     ]
    }
   ],
   "source": [
    "# 7. Write a program to sum all prime numbers within a range of 10 to 1000.\n",
    "\n",
    "sum = 0\n",
    "for num in range(10, 1001):\n",
    "    if num > 1:\n",
    "        for i in range(2, num):\n",
    "            if (num % i) == 0:\n",
    "                break\n",
    "        else:\n",
    "            sum += num\n",
    "print(\"The sum of all prime numbers within the range of 10 to 1000 will be\", sum)\n"
   ]
  },
  {
   "cell_type": "code",
   "execution_count": null,
   "id": "e1912cd0",
   "metadata": {},
   "outputs": [],
   "source": [
    "# 8. Find the factorial of an n! (Hint, n=7: 7*6*5*4*3*2*1).\n"
   ]
  },
  {
   "cell_type": "code",
   "execution_count": 16,
   "id": "3bd5094e",
   "metadata": {},
   "outputs": [
    {
     "name": "stdout",
     "output_type": "stream",
     "text": [
      "Enter a number: 6\n",
      "The factorial of 6 is 720\n"
     ]
    }
   ],
   "source": [
    "def factorial(n):\n",
    "   if n == 0:\n",
    "       return 1\n",
    "   else:\n",
    "       return n * factorial(n-1)\n",
    "    \n",
    "n = int(input(\"Enter a number: \"))\n",
    "\n",
    "fact = factorial(n)\n",
    "\n",
    "print(\"The factorial of\", n, \"is\", fact)\n"
   ]
  },
  {
   "cell_type": "code",
   "execution_count": null,
   "id": "7dfdce0f",
   "metadata": {},
   "outputs": [],
   "source": [
    "# 9.Reverse a given integer number 27956240710."
   ]
  },
  {
   "cell_type": "code",
   "execution_count": 17,
   "id": "6bf9ac5b",
   "metadata": {},
   "outputs": [
    {
     "name": "stdout",
     "output_type": "stream",
     "text": [
      "1704265972\n"
     ]
    }
   ],
   "source": [
    "num = 27956240710\n",
    "\n",
    "# Convert the integer to a string and reverse it using slicing\n",
    "reversed_num = str(num)[::-1]\n",
    "\n",
    "# Convert the reversed string back to an integer\n",
    "reversed_num = int(reversed_num)\n",
    "\n",
    "print(reversed_num)"
   ]
  },
  {
   "cell_type": "code",
   "execution_count": 18,
   "id": "a6283a73",
   "metadata": {},
   "outputs": [
    {
     "name": "stdout",
     "output_type": "stream",
     "text": [
      "# # # \n",
      "# # \n",
      "# \n"
     ]
    }
   ],
   "source": [
    "# 10. Print the following pattern using for and while loop.\n",
    "# # #\n",
    "# # # #\n",
    "# # #\n",
    "# #\n",
    "\n",
    "\n",
    "# Using for loop\n",
    "for i in range(4, 1, -1):\n",
    "    for j in range(1, i):\n",
    "        print(\"#\", end=\" \")\n",
    "    print()\n"
   ]
  },
  {
   "cell_type": "code",
   "execution_count": 19,
   "id": "47823c58",
   "metadata": {},
   "outputs": [
    {
     "name": "stdout",
     "output_type": "stream",
     "text": [
      "# # # # \n",
      "# # # \n",
      "# # \n",
      "# \n",
      "\n"
     ]
    }
   ],
   "source": [
    "# Using while loop\n",
    "i = 5\n",
    "while i > 0:\n",
    "    j = 1\n",
    "    while j < i:\n",
    "        print(\"#\", end=\" \")\n",
    "        j += 1\n",
    "    print()\n",
    "    i -= 1\n"
   ]
  },
  {
   "cell_type": "code",
   "execution_count": null,
   "id": "a0c5edec",
   "metadata": {},
   "outputs": [],
   "source": [
    "#11. Display the Fibonacci series of 15 elements using the for and while loop."
   ]
  },
  {
   "cell_type": "code",
   "execution_count": 20,
   "id": "fe76ca1e",
   "metadata": {},
   "outputs": [
    {
     "name": "stdout",
     "output_type": "stream",
     "text": [
      "0 1 1 2 3 5 8 13 21 34 55 89 144 233 377 \n"
     ]
    }
   ],
   "source": [
    "a, b = 0, 1\n",
    "\n",
    "# Using for loop\n",
    "for i in range(15):\n",
    "    print(a, end=\" \")\n",
    "    a, b = b, a + b\n",
    "\n",
    "print()"
   ]
  },
  {
   "cell_type": "code",
   "execution_count": 21,
   "id": "7d8ecf54",
   "metadata": {},
   "outputs": [
    {
     "name": "stdout",
     "output_type": "stream",
     "text": [
      "0 1 1 2 3 5 8 13 21 34 55 89 144 233 377 "
     ]
    }
   ],
   "source": [
    "# Using while loop\n",
    "a, b = 0, 1\n",
    "i = 0\n",
    "while i < 15:\n",
    "    print(a, end=\" \")\n",
    "    a, b = b, a + b\n",
    "    i += 1"
   ]
  },
  {
   "cell_type": "code",
   "execution_count": null,
   "id": "c7fca4d6",
   "metadata": {},
   "outputs": [],
   "source": [
    "# 12. Remove 2 and add 3 to the list and replace True with False.\n",
    "Li = [1,3,5, [2,3], True]\n",
    "Output = [1,3,5, [3,3], False]"
   ]
  },
  {
   "cell_type": "code",
   "execution_count": 22,
   "id": "e55d6ce7",
   "metadata": {},
   "outputs": [
    {
     "name": "stdout",
     "output_type": "stream",
     "text": [
      "Output = [1, 3, 5, [3, 3], False]\n"
     ]
    }
   ],
   "source": [
    "Li = [1,3,5, [2,3], True]\n",
    "\n",
    "Li[3].remove(2)\n",
    "Li[3].append(3)\n",
    "Li[4] = False\n",
    "\n",
    "print(\"Output =\", Li)\n"
   ]
  },
  {
   "cell_type": "code",
   "execution_count": null,
   "id": "0017e57f",
   "metadata": {},
   "outputs": [],
   "source": [
    "# 13. Find the intersection (common) of two sets.\n",
    "S1 = {1,4,6,8}\n",
    "S2 = {True, 1,2,10}"
   ]
  },
  {
   "cell_type": "code",
   "execution_count": 23,
   "id": "76b5358c",
   "metadata": {},
   "outputs": [
    {
     "name": "stdout",
     "output_type": "stream",
     "text": [
      "{1}\n"
     ]
    }
   ],
   "source": [
    "'''S1 = {1, 4, 6, 8}\n",
    "S2 = {True, 1, 2, 10}\n",
    "\n",
    "common_elements = S1 & S2\n",
    "print(common_elements)'''\n",
    "\n",
    "\n",
    "set1 = {1, 4, 6, 8}\n",
    "#et2 = {True, 1, 2, 10}\n",
    "set2 = { 1, 2, 10, True}\n",
    "\n",
    "print(set1.intersection(set2))\n"
   ]
  },
  {
   "cell_type": "code",
   "execution_count": null,
   "id": "65a065bb",
   "metadata": {},
   "outputs": [],
   "source": [
    "# 14. Input a list from the user then Remove duplicates from a list and create a set and find the max\n",
    "number. User_input = [1,9,3,4,5,200,54]"
   ]
  },
  {
   "cell_type": "code",
   "execution_count": 24,
   "id": "7501706f",
   "metadata": {},
   "outputs": [
    {
     "name": "stdout",
     "output_type": "stream",
     "text": [
      "List after removing duplicates Number: {1, 3, 4, 5, 200, 9, 54}\n",
      "Maximum number in the list: 200\n"
     ]
    }
   ],
   "source": [
    "user_input = [1, 9, 3, 4, 5, 200, 54]\n",
    "\n",
    "remove_duplicates_number = set(user_input)\n",
    "max_number = max(remove_duplicates_number) # Find the maximum number fro the set\n",
    "\n",
    "print(\"List after removing duplicates Number:\", remove_duplicates_number)\n",
    "print(\"Maximum number in the list:\", max_number)\n"
   ]
  },
  {
   "cell_type": "code",
   "execution_count": null,
   "id": "7567a71f",
   "metadata": {},
   "outputs": [],
   "source": [
    "# 15. 15. Rename the key of a dictionary.\n",
    "Dict = { \"name\": \"Shakil\", \"age\":27, \"city\": “Berlin”, \"country\": \"Germany\" }\n",
    "Write a program to rename a key ‘country’ to a ‘region’ in the following dictionary."
   ]
  },
  {
   "cell_type": "code",
   "execution_count": 25,
   "id": "1f10f2fc",
   "metadata": {},
   "outputs": [
    {
     "name": "stdout",
     "output_type": "stream",
     "text": [
      "The updated dictionary will be {'name': 'Shakil', 'age': 27, 'city': 'Berlin', 'region': 'Germany'}\n"
     ]
    }
   ],
   "source": [
    "dict = { 'name': 'Shakil', 'age':27, 'city': 'Berlin', 'country': 'Germany' }\n",
    "\n",
    "dict['region'] = dict.pop('country')\n",
    "\n",
    "print(\"The updated dictionary will be\", dict)\n"
   ]
  },
  {
   "cell_type": "code",
   "execution_count": null,
   "id": "755e21e6",
   "metadata": {},
   "outputs": [],
   "source": [
    "# 16. 16. Creating a data frame using the list.\n",
    "num = [10,100,300] (column name is number)"
   ]
  },
  {
   "cell_type": "code",
   "execution_count": 26,
   "id": "a2dd4741",
   "metadata": {},
   "outputs": [
    {
     "name": "stdout",
     "output_type": "stream",
     "text": [
      "   number\n",
      "0      10\n",
      "1     100\n",
      "2     300\n",
      "3     400\n",
      "4     500\n"
     ]
    }
   ],
   "source": [
    "import pandas as pd\n",
    "\n",
    "num = [10, 100, 300, 400, 500]\n",
    "\n",
    "df = pd.DataFrame({'number': num})\n",
    "\n",
    "print(df)\n"
   ]
  },
  {
   "cell_type": "code",
   "execution_count": null,
   "id": "d682ccf1",
   "metadata": {},
   "outputs": [],
   "source": [
    "#17. 17. Change the value of a key in a given dictionary.\n",
    "Write a Python program to change ‘age’ to 28 in the following dictionary.\n",
    "Dict = { \"name\": \"Shakil\", \"age\":27, \"city\": “Berlin”, \"country\": \"Germany\" }"
   ]
  },
  {
   "cell_type": "code",
   "execution_count": 27,
   "id": "6f19aef1",
   "metadata": {},
   "outputs": [
    {
     "name": "stdout",
     "output_type": "stream",
     "text": [
      "Now the Python program will be {'name': 'Shakil', 'age': 28, 'city': 'Berlin', 'country': 'Germany'}\n"
     ]
    }
   ],
   "source": [
    "dict = { \"name\": \"Shakil\", \"age\":27, \"city\": 'Berlin', \"country\": \"Germany\" }\n",
    "dict['age'] = 28\n",
    "print(\"Now the Python program will be\", dict)"
   ]
  },
  {
   "cell_type": "code",
   "execution_count": null,
   "id": "4a5677b9",
   "metadata": {},
   "outputs": [],
   "source": []
  }
 ],
 "metadata": {
  "kernelspec": {
   "display_name": "Python 3 (ipykernel)",
   "language": "python",
   "name": "python3"
  },
  "language_info": {
   "codemirror_mode": {
    "name": "ipython",
    "version": 3
   },
   "file_extension": ".py",
   "mimetype": "text/x-python",
   "name": "python",
   "nbconvert_exporter": "python",
   "pygments_lexer": "ipython3",
   "version": "3.11.3"
  }
 },
 "nbformat": 4,
 "nbformat_minor": 5
}
