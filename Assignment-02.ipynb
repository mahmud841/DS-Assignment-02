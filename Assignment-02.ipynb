{
 "cells": [
  {
   "cell_type": "code",
   "execution_count": null,
   "id": "4af95f64",
   "metadata": {},
   "outputs": [],
   "source": [
    "# 1.Take values of the length & breadth of a rectangle from user input and check if it is square or not."
   ]
  },
  {
   "cell_type": "code",
   "execution_count": 3,
   "id": "efea2396",
   "metadata": {},
   "outputs": [
    {
     "name": "stdout",
     "output_type": "stream",
     "text": [
      "Enter the length of the Rectangle: 25\n",
      "Enter the breadth of the Rectangle: 20\n",
      "The rectangle is not a Square.\n"
     ]
    }
   ],
   "source": [
    "length = float(input(\"Enter the length of the Rectangle: \"))\n",
    "breadth = float(input(\"Enter the breadth of the Rectangle: \"))\n",
    "\n",
    "if length == breadth:\n",
    "   print(\"The rectangle is a Square.\")\n",
    "else:\n",
    "   print(\"The rectangle is not a Square.\")\n"
   ]
  },
  {
   "cell_type": "code",
   "execution_count": null,
   "id": "cf3173a1",
   "metadata": {},
   "outputs": [],
   "source": [
    "# 2.Take three integer values from the user and print the greatest among them."
   ]
  },
  {
   "cell_type": "code",
   "execution_count": 6,
   "id": "c9c59945",
   "metadata": {},
   "outputs": [
    {
     "name": "stdout",
     "output_type": "stream",
     "text": [
      "Enter the 1st number: 30\n",
      "Enter the 2nd number: 35\n",
      "Enter the 3rd number: 33\n",
      "The greatest number is  35\n"
     ]
    }
   ],
   "source": [
    "num1 = int(input(\"Enter the 1st number: \"))\n",
    "num2 = int(input(\"Enter the 2nd number: \"))\n",
    "num3 = int(input(\"Enter the 3rd number: \"))\n",
    "\n",
    "if num1 > num2 and num1 > num3:\n",
    "   print(\"The greatest number is \", num1)\n",
    "elif num2 > num3:\n",
    "   print(\"The greatest number is \", num2)\n",
    "else:\n",
    "   print(\"The greatest number is \", num3)\n"
   ]
  },
  {
   "cell_type": "code",
   "execution_count": null,
   "id": "a5d1b8d2",
   "metadata": {},
   "outputs": [],
   "source": [
    "# 3.A student will not be allowed to sit in an exam if his/her attendance is less than 75%."
   ]
  },
  {
   "cell_type": "code",
   "execution_count": 15,
   "id": "27fc6ff9",
   "metadata": {},
   "outputs": [
    {
     "name": "stdout",
     "output_type": "stream",
     "text": [
      "Enter the attendance percentage: 75\n",
      "The student is allowed to sit in the exam.\n"
     ]
    }
   ],
   "source": [
    "attendancePercentage = float(input(\"Enter the attendance percentage: \"))\n",
    "\n",
    "if attendancePercentage < 75  :\n",
    "    print(\"The student is not allowed to sit in the exam.\")\n",
    "else:\n",
    "    print(\"The student is allowed to sit in the exam.\")\n"
   ]
  },
  {
   "cell_type": "code",
   "execution_count": null,
   "id": "e0edd6e0",
   "metadata": {},
   "outputs": [],
   "source": [
    "# 3.A student will not be allowed to sit in an exam if his/her attendance is less than 75%."
   ]
  },
  {
   "cell_type": "code",
   "execution_count": 30,
   "id": "d4ce063e",
   "metadata": {},
   "outputs": [
    {
     "name": "stdout",
     "output_type": "stream",
     "text": [
      "Total Class Held: 60\n",
      "Attend Total Class: 30\n"
     ]
    },
    {
     "ename": "TypeError",
     "evalue": "unsupported operand type(s) for /: 'int' and 'tuple'",
     "output_type": "error",
     "traceback": [
      "\u001b[1;31m---------------------------------------------------------------------------\u001b[0m",
      "\u001b[1;31mTypeError\u001b[0m                                 Traceback (most recent call last)",
      "Cell \u001b[1;32mIn[30], line 4\u001b[0m\n\u001b[0;32m      1\u001b[0m classHeld \u001b[38;5;241m=\u001b[39m \u001b[38;5;28mint\u001b[39m(\u001b[38;5;28minput\u001b[39m(\u001b[38;5;124m'\u001b[39m\u001b[38;5;124mTotal Class Held: \u001b[39m\u001b[38;5;124m'\u001b[39m)),\n\u001b[0;32m      2\u001b[0m classAttend \u001b[38;5;241m=\u001b[39m \u001b[38;5;28mint\u001b[39m(\u001b[38;5;28minput\u001b[39m(\u001b[38;5;124m'\u001b[39m\u001b[38;5;124mAttend Total Class: \u001b[39m\u001b[38;5;124m'\u001b[39m)) \n\u001b[1;32m----> 4\u001b[0m result \u001b[38;5;241m=\u001b[39m (\u001b[43mclassAttend\u001b[49m\u001b[43m \u001b[49m\u001b[38;5;241;43m/\u001b[39;49m\u001b[43m \u001b[49m\u001b[43mclassHeld\u001b[49m)\u001b[38;5;241m*\u001b[39m\u001b[38;5;241m100\u001b[39m\n\u001b[0;32m      6\u001b[0m \u001b[38;5;28mprint\u001b[39m(\u001b[38;5;124m\"\u001b[39m\u001b[38;5;124mAttandance is\u001b[39m\u001b[38;5;124m\"\u001b[39m,result)\n\u001b[0;32m      8\u001b[0m \u001b[38;5;28;01mif\u001b[39;00m result \u001b[38;5;241m>\u001b[39m \u001b[38;5;241m75\u001b[39m:\n",
      "\u001b[1;31mTypeError\u001b[0m: unsupported operand type(s) for /: 'int' and 'tuple'"
     ]
    }
   ],
   "source": [
    "classHeld = int(input('Total Class Held: ')),\n",
    "classAttend = int(input('Attend Total Class: ')) \n",
    "\n",
    "result = (classAttend / classHeld)*100\n",
    "\n",
    "print(\"Attandance is\",result)\n",
    "\n",
    "if result > 75:\n",
    "   print(\"Allowed to sit in Exam\")\n",
    "else:\n",
    "   print(\"Not allowed to sit in Exam\")"
   ]
  },
  {
   "cell_type": "code",
   "execution_count": null,
   "id": "278c0476",
   "metadata": {},
   "outputs": [],
   "source": [
    "# 4. A school has the following rules for the grading system:\n",
    "Below 25 – F, 25 to 44 – E, 45 to 49 – D, 50 to 59 – C, 60 to 79 – B, 80 to 89 - A, Above 90 - A+\n",
    "Now, Ask the user to enter marks and print the corresponding grade."
   ]
  },
  {
   "cell_type": "code",
   "execution_count": 41,
   "id": "b147e3fb",
   "metadata": {},
   "outputs": [
    {
     "name": "stdout",
     "output_type": "stream",
     "text": [
      "Enter Student Marks: 60\n",
      "Grade: B\n"
     ]
    }
   ],
   "source": [
    "gradingMarks = float(input(\"Enter Student Marks: \"))\n",
    "\n",
    "if gradingMarks < 25:\n",
    "    print(\"Grade: F\")\n",
    "    \n",
    "elif gradingMarks >= 25 and gradingMarks < 45:\n",
    "    print(\"Grade: E\")\n",
    "    \n",
    "elif gradingMarks >= 45 and gradingMarks < 50:\n",
    "    print(\"Grade: D\")\n",
    "    \n",
    "elif gradingMarks >= 50 and gradingMarks < 60:\n",
    "    print(\"Grade: C\")\n",
    "    \n",
    "elif gradingMarks >= 60 and gradingMarks < 80:\n",
    "    print(\"Grade: B\")\n",
    "    \n",
    "elif gradingMarks >= 80 and gradingMarks < 90:\n",
    "    print(\"Grade: A\")\n",
    "    \n",
    "elif gradingMarks >= 90:\n",
    "    print(\"Grade: A+\")\n"
   ]
  },
  {
   "cell_type": "code",
   "execution_count": null,
   "id": "700433ba",
   "metadata": {},
   "outputs": [],
   "source": [
    "# 5. Print the following pattern using for and while loop.\n",
    "1 2 3 4 5 6 7\n",
    "1 2 3 4 5 6\n",
    "1 2 3 4 5\n",
    "1 2 3 4"
   ]
  },
  {
   "cell_type": "code",
   "execution_count": 43,
   "id": "4578ba24",
   "metadata": {},
   "outputs": [
    {
     "name": "stdout",
     "output_type": "stream",
     "text": [
      "1 2 3 4 5 6 7 \n",
      "1 2 3 4 5 6 \n",
      "1 2 3 4 5 \n",
      "1 2 3 4 \n",
      "1 2 3 \n",
      "1 2 \n",
      "1 \n",
      "\n"
     ]
    }
   ],
   "source": [
    " for i in range(8, 0, -1):\n",
    "        for k in range(1,i):\n",
    "            print(k, end=\" \")\n",
    "        print()"
   ]
  },
  {
   "cell_type": "code",
   "execution_count": 46,
   "id": "909e4bf8",
   "metadata": {},
   "outputs": [
    {
     "name": "stdout",
     "output_type": "stream",
     "text": [
      "1 2 3 4 5 6 7 \n",
      "1 2 3 4 5 6 \n",
      "1 2 3 4 5 \n",
      "1 2 3 4 \n",
      "1 2 3 \n",
      "1 2 \n",
      "1 \n",
      "\n"
     ]
    }
   ],
   "source": [
    "i = 8\n",
    "while i > 0:\n",
    "    k = 1\n",
    "    while k < i:\n",
    "        print(k, end=\" \")\n",
    "        k += 1\n",
    "    print()\n",
    "    i -= 1"
   ]
  },
  {
   "cell_type": "code",
   "execution_count": null,
   "id": "412023e6",
   "metadata": {},
   "outputs": [],
   "source": [
    "# 6. Display numbers from -100 to -10 using for loop."
   ]
  },
  {
   "cell_type": "code",
   "execution_count": 49,
   "id": "5984525e",
   "metadata": {},
   "outputs": [
    {
     "name": "stdout",
     "output_type": "stream",
     "text": [
      "-100 -99 -98 -97 -96 -95 -94 -93 -92 -91 -90 -89 -88 -87 -86 -85 -84 -83 -82 -81 -80 -79 -78 -77 -76 -75 -74 -73 -72 -71 -70 -69 -68 -67 -66 -65 -64 -63 -62 -61 -60 -59 -58 -57 -56 -55 -54 -53 -52 -51 -50 -49 -48 -47 -46 -45 -44 -43 -42 -41 -40 -39 -38 -37 -36 -35 -34 -33 -32 -31 -30 -29 -28 -27 -26 -25 -24 -23 -22 -21 -20 -19 -18 -17 -16 -15 -14 -13 -12 -11 -10 "
     ]
    }
   ],
   "source": [
    "for i in range(-100, -9):\n",
    "    #print(i)\n",
    "    print(i, end=\" \")"
   ]
  },
  {
   "cell_type": "code",
   "execution_count": 55,
   "id": "85f7bf9c",
   "metadata": {},
   "outputs": [
    {
     "name": "stdout",
     "output_type": "stream",
     "text": [
      "The sum of all prime numbers within the range of 10 to 1000 will be 76110\n"
     ]
    }
   ],
   "source": [
    "# 7. Write a program to sum all prime numbers within a range of 10 to 1000.\n",
    "\n",
    "sum = 0\n",
    "for num in range(10, 1001):\n",
    "    if num > 1:\n",
    "        for i in range(2, num):\n",
    "            if (num % i) == 0:\n",
    "                break\n",
    "        else:\n",
    "            sum += num\n",
    "print(\"The sum of all prime numbers within the range of 10 to 1000 will be\", sum)\n"
   ]
  },
  {
   "cell_type": "code",
   "execution_count": null,
   "id": "4b2e568e",
   "metadata": {},
   "outputs": [],
   "source": [
    "# 8. Find the factorial of an n! (Hint, n=7: 7*6*5*4*3*2*1).\n"
   ]
  }
 ],
 "metadata": {
  "kernelspec": {
   "display_name": "Python 3 (ipykernel)",
   "language": "python",
   "name": "python3"
  },
  "language_info": {
   "codemirror_mode": {
    "name": "ipython",
    "version": 3
   },
   "file_extension": ".py",
   "mimetype": "text/x-python",
   "name": "python",
   "nbconvert_exporter": "python",
   "pygments_lexer": "ipython3",
   "version": "3.11.3"
  }
 },
 "nbformat": 4,
 "nbformat_minor": 5
}
